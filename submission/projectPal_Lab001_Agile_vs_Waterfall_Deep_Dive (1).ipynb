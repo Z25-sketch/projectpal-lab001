{
  "cells": [
    {
      "cell_type": "markdown",
      "id": "25d3d578",
      "metadata": {
        "id": "25d3d578"
      },
      "source": [
        "# 🧠 projectPal Lab #001: Agile vs Waterfall Deep Dive\n",
        "\n",
        "**Lab Type:** Idea  \n",
        "**Estimated Time:** 30–45 mins  \n",
        "**Skill Level:** Beginner"
      ]
    },
    {
      "cell_type": "code",
      "execution_count": 1,
      "id": "21564d18",
      "metadata": {
        "id": "21564d18",
        "colab": {
          "base_uri": "https://localhost:8080/"
        },
        "outputId": "bb6e341d-2207-4486-d1c8-b80f8385f242"
      },
      "outputs": [
        {
          "output_type": "stream",
          "name": "stdout",
          "text": [
            "Welcome to the lab, Zion Chapman!\n"
          ]
        }
      ],
      "source": [
        "# Let's begin by printing your name to personalize the notebook\n",
        "your_name = \"Zion Chapman\"\n",
        "print(f\"Welcome to the lab, {your_name}!\")"
      ]
    },
    {
      "cell_type": "markdown",
      "id": "cd9df0e3",
      "metadata": {
        "id": "cd9df0e3"
      },
      "source": [
        "## 🔍 STAR Method Lab Prompt\n",
        "\n",
        "**Situation:**  \n",
        "Situation: A small business wants to develop a mobile app. They don't know the process or feature they want yet. They want progress as fast as possible to get a investor. The budget is a little bit flexiable and feedback from customer in development process is a value to them.\n",
        "\n",
        "**Task:**  \n",
        " Compare Agile and Waterfall to determine which one is the betterfit for mobile app development project.\n",
        "\n",
        "**Action:**  \n",
        "[I use Gemini input to get a comparison chart on both Agile and Waterfall, which targets the areas that are suitabile for mobile app develoopment. I analyzed characteristics of the methodology that goes against the small buisness requirement.]\n",
        "\n",
        "**Expected Result:**  \n",
        "[For the small business, Agile would be the recommended methodology. The rationalty if the business reqirement with uncertain factors and values feedback. This aligns perfectly with Agile's iterative nature, flexibility, and focus on customer involvement. This would allow adaptation in the app base on feedback, show progress to investors. Waterfall would be too rigid for this scenario. Which would make it hard to incorporate changes once development is underway.]"
      ]
    },
    {
      "cell_type": "markdown",
      "id": "5e035dff",
      "metadata": {
        "id": "5e035dff"
      },
      "source": [
        "## ✍️ My Assignment\n",
        "\n",
        "_Use this section to complete your deliverable:_\n",
        "\n",
        "- **Methods Compared**: Agile vs Waterfall\n",
        "- **Use Case**: Web app for a nonprofit  \n",
        "- **Gemini Prompt**: Pros and cons table + STAR justification  \n",
        "- **STAR Output**:  \n",
        "  - S: Non profit organization that is unsure how to effectively manage new web app, leads to concerns about scope creep and delayed launch.\n",
        "  -T:  Agile is more suited for it's flexibility and adaptation.\n",
        "  - A: The analysis directly addressed the nonprofit's project management issue and concern.\n",
        "  - R: R: The expected result is a recommendation that Agile is well suited for the nonprofit's web app. The rationale provided will highlight Agile's ability to handle evolving requirements, intake continuous feedback, and deliver value, which is fundamental for a project with an uncertain timeline and dynamic needs, especially within a nonprofit context..\n",
        "```"
      ]
    }
  ],
  "metadata": {
    "colab": {
      "provenance": []
    },
    "language_info": {
      "name": "python"
    },
    "kernelspec": {
      "name": "python3",
      "display_name": "Python 3"
    }
  },
  "nbformat": 4,
  "nbformat_minor": 5
}