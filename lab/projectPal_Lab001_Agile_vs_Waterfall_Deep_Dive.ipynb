{
 "cells": [
  {
   "cell_type": "markdown",
   "id": "25d3d578",
   "metadata": {},
   "source": [
    "# 🧠 projectPal Lab #001: Agile vs Waterfall Deep Dive\n",
    "\n",
    "**Lab Type:** Idea  \n",
    "**Estimated Time:** 30–45 mins  \n",
    "**Skill Level:** Beginner"
   ]
  },
  {
   "cell_type": "code",
   "execution_count": null,
   "id": "21564d18",
   "metadata": {},
   "outputs": [],
   "source": [
    "# Let's begin by printing your name to personalize the notebook\n",
    "your_name = \"\"\n",
    "print(f\"Welcome to the lab, {your_name}!\")"
   ]
  },
  {
   "cell_type": "markdown",
   "id": "cd9df0e3",
   "metadata": {},
   "source": [
    "## 🔍 STAR Method Lab Prompt\n",
    "\n",
    "**Situation:**  \n",
    "[What project problem or management decision is being faced?]\n",
    "\n",
    "**Task:**  \n",
    "[What method, board, or plan are you testing?]\n",
    "\n",
    "**Action:**  \n",
    "[What tool or technique are you using to break it down?]\n",
    "\n",
    "**Expected Result:**  \n",
    "[A plan, comparison, or output that could be used in a real project.]"
   ]
  },
  {
   "cell_type": "markdown",
   "id": "5e035dff",
   "metadata": {},
   "source": [
    "## ✍️ Your Assignment\n",
    "\n",
    "_Use this section to complete your deliverable:_\n",
    "\n",
    "```markdown\n",
    "(Example Format)\n",
    "\n",
    "- **Methods Compared**: Agile vs Waterfall  \n",
    "- **Use Case**: Web app for a nonprofit  \n",
    "- **Gemini Prompt**: Pros and cons table + STAR justification  \n",
    "- **STAR Output**:  \n",
    "   - S: Org unsure how to manage project timeline  \n",
    "   - T: Compare Agile vs Waterfall  \n",
    "   - A: Built analysis using Gemini + table view  \n",
    "   - R: Recommendation with rationale  \n",
    "```"
   ]
  }
 ],
 "metadata": {},
 "nbformat": 4,
 "nbformat_minor": 5
}
